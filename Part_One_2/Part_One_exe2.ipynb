{
 "cells": [
  {
   "cell_type": "code",
   "execution_count": 1,
   "id": "2a843988-b204-4fac-9f3e-d141d50be09a",
   "metadata": {},
   "outputs": [],
   "source": [
    "import pandas as pd"
   ]
  },
  {
   "cell_type": "code",
   "execution_count": 2,
   "id": "94dadcc9-62ab-42d0-ad5b-084da1771353",
   "metadata": {},
   "outputs": [
    {
     "name": "stdout",
     "output_type": "stream",
     "text": [
      "<class 'pandas.core.frame.DataFrame'>\n",
      "RangeIndex: 1000000 entries, 0 to 999999\n",
      "Data columns (total 2 columns):\n",
      " #   Column     Non-Null Count    Dtype \n",
      "---  ------     --------------    ----- \n",
      " 0   timestamp  1000000 non-null  object\n",
      " 1   value      900960 non-null   object\n",
      "dtypes: object(2)\n",
      "memory usage: 15.3+ MB\n"
     ]
    }
   ],
   "source": [
    "df = pd.read_csv('./time_series.csv')\n",
    "df.info()"
   ]
  },
  {
   "cell_type": "code",
   "execution_count": 3,
   "id": "9634ab25-91bf-4d47-a8b4-a643ad11ec88",
   "metadata": {},
   "outputs": [
    {
     "data": {
      "text/html": [
       "<div>\n",
       "<style scoped>\n",
       "    .dataframe tbody tr th:only-of-type {\n",
       "        vertical-align: middle;\n",
       "    }\n",
       "\n",
       "    .dataframe tbody tr th {\n",
       "        vertical-align: top;\n",
       "    }\n",
       "\n",
       "    .dataframe thead th {\n",
       "        text-align: right;\n",
       "    }\n",
       "</style>\n",
       "<table border=\"1\" class=\"dataframe\">\n",
       "  <thead>\n",
       "    <tr style=\"text-align: right;\">\n",
       "      <th></th>\n",
       "      <th>timestamp</th>\n",
       "      <th>value</th>\n",
       "    </tr>\n",
       "  </thead>\n",
       "  <tbody>\n",
       "    <tr>\n",
       "      <th>count</th>\n",
       "      <td>1000000</td>\n",
       "      <td>900960</td>\n",
       "    </tr>\n",
       "    <tr>\n",
       "      <th>unique</th>\n",
       "      <td>43200</td>\n",
       "      <td>1002</td>\n",
       "    </tr>\n",
       "    <tr>\n",
       "      <th>top</th>\n",
       "      <td>09/06/2025 11:09</td>\n",
       "      <td>not_a_number</td>\n",
       "    </tr>\n",
       "    <tr>\n",
       "      <th>freq</th>\n",
       "      <td>45</td>\n",
       "      <td>49969</td>\n",
       "    </tr>\n",
       "  </tbody>\n",
       "</table>\n",
       "</div>"
      ],
      "text/plain": [
       "               timestamp         value\n",
       "count            1000000        900960\n",
       "unique             43200          1002\n",
       "top     09/06/2025 11:09  not_a_number\n",
       "freq                  45         49969"
      ]
     },
     "execution_count": 3,
     "metadata": {},
     "output_type": "execute_result"
    }
   ],
   "source": [
    "df.describe(include = 'all')"
   ]
  },
  {
   "cell_type": "code",
   "execution_count": 4,
   "id": "cb95cecf-75db-4d3c-97fb-ac882bf2fc39",
   "metadata": {},
   "outputs": [
    {
     "data": {
      "text/plain": [
       "timestamp        0\n",
       "value        99040\n",
       "dtype: int64"
      ]
     },
     "execution_count": 4,
     "metadata": {},
     "output_type": "execute_result"
    }
   ],
   "source": [
    "df.isnull().sum()"
   ]
  },
  {
   "cell_type": "code",
   "execution_count": 5,
   "id": "aa6e94a1-137c-47dd-8b25-a5925055760d",
   "metadata": {},
   "outputs": [
    {
     "name": "stdout",
     "output_type": "stream",
     "text": [
      "נמצאו כפילויות לפי עמודת 'timestamp':\n",
      "               timestamp value\n",
      "0       28/06/2025 12:00  18.5\n",
      "1       01/06/2025 04:17  46.3\n",
      "2       10/06/2025 17:02    76\n",
      "3       23/06/2025 05:23  56.4\n",
      "4       05/06/2025 07:20  67.9\n",
      "...                  ...   ...\n",
      "999995  21/06/2025 18:41  44.8\n",
      "999996  26/06/2025 21:09   NaN\n",
      "999997  24/06/2025 18:51   3.9\n",
      "999998  10/06/2025 08:36    77\n",
      "999999  05/06/2025 22:30  43.3\n",
      "\n",
      "[1000000 rows x 2 columns]\n"
     ]
    }
   ],
   "source": [
    "duplicates = df[df[\"timestamp\"].duplicated(keep=False)]\n",
    "if not duplicates.empty:\n",
    "    print(\"נמצאו כפילויות לפי עמודת 'timestamp':\")\n",
    "    print(duplicates)"
   ]
  },
  {
   "cell_type": "code",
   "execution_count": 6,
   "id": "72b48c09-982a-49be-b600-4ca8af05b07d",
   "metadata": {},
   "outputs": [
    {
     "name": "stdout",
     "output_type": "stream",
     "text": [
      "כל התאריכים תקינים\n"
     ]
    }
   ],
   "source": [
    "#בדיקה של פורמט התהליך\n",
    "df[\"timestamp\"] = pd.to_datetime(df[\"timestamp\"], format=\"%d/%m/%Y %H:%M\", errors=\"coerce\")\n",
    "invalid_dates = df[df[\"timestamp\"].isna()]\n",
    "if not invalid_dates.empty:\n",
    "    print(\"נמצאו תאריכים לא תקינים:\")\n",
    "    print(invalid_dates)\n",
    "else:\n",
    "    print(\"כל התאריכים תקינים\")"
   ]
  },
  {
   "cell_type": "code",
   "execution_count": 7,
   "id": "38eecdee-8847-4f5f-8712-f11458a45ff4",
   "metadata": {},
   "outputs": [
    {
     "name": "stdout",
     "output_type": "stream",
     "text": [
      "                 timestamp value\n",
      "0      2025-06-28 12:00:00  18.5\n",
      "1      2025-06-01 04:17:00  46.3\n",
      "2      2025-06-10 17:02:00    76\n",
      "3      2025-06-23 05:23:00  56.4\n",
      "4      2025-06-05 07:20:00  67.9\n",
      "...                    ...   ...\n",
      "999994 2025-06-19 09:33:00  77.1\n",
      "999995 2025-06-21 18:41:00  44.8\n",
      "999997 2025-06-24 18:51:00   3.9\n",
      "999998 2025-06-10 08:36:00    77\n",
      "999999 2025-06-05 22:30:00  43.3\n",
      "\n",
      "[850991 rows x 2 columns]\n"
     ]
    }
   ],
   "source": [
    "#הורדת ערכי ה NaN וערכי not_a_number\n",
    "df.replace(\"not_a_number\", pd.NA, inplace=True)\n",
    "df = df.dropna()\n",
    "df = df.dropna(subset=[\"value\"])\n",
    "print(df)"
   ]
  },
  {
   "cell_type": "code",
   "execution_count": 8,
   "id": "a79f1fb9-fa80-4d69-ae41-c23964685f13",
   "metadata": {},
   "outputs": [],
   "source": [
    "df[\"value\"] = df[\"value\"].astype(float)"
   ]
  },
  {
   "cell_type": "code",
   "execution_count": 9,
   "id": "977fbe4f-502f-4c39-afa4-d96ce044bba8",
   "metadata": {},
   "outputs": [],
   "source": [
    "df[\"timestamp\"] = pd.to_datetime(df[\"timestamp\"])\n",
    "df[\"timestamp_update\"] = df[\"timestamp\"].dt.hour\n",
    "#hourly_average = df.groupby(\"timestamp_update\")[\"value\"].mean().reset_index()"
   ]
  },
  {
   "cell_type": "code",
   "execution_count": 10,
   "id": "7ce49ad8-c70c-4fe8-abc3-37743a8235fb",
   "metadata": {},
   "outputs": [],
   "source": [
    "#hourly_average = hourly_average.rename(columns={\"value\": \"ממוצע\"})"
   ]
  },
  {
   "cell_type": "code",
   "execution_count": 11,
   "id": "2ad14dac-27d6-45de-95fe-6b8be74b3fa8",
   "metadata": {},
   "outputs": [],
   "source": [
    "hourly_average = df.groupby(\"timestamp_update\").agg(\n",
    "    ממוצע=('value', 'mean'),\n",
    "    earliest_timestamp=('timestamp', 'min')\n",
    ").reset_index()"
   ]
  },
  {
   "cell_type": "code",
   "execution_count": 12,
   "id": "0b20f1a2-72d5-4f80-b374-ae7738cac114",
   "metadata": {},
   "outputs": [
    {
     "name": "stdout",
     "output_type": "stream",
     "text": [
      "    timestamp_update      ממוצע  earliest_timestamp\n",
      "0                  0  49.881598 2025-06-01 00:00:00\n",
      "1                  1  50.022128 2025-06-01 01:00:00\n",
      "2                  2  49.809702 2025-06-01 02:00:00\n",
      "3                  3  50.090993 2025-06-01 03:00:00\n",
      "4                  4  49.826086 2025-06-01 04:00:00\n",
      "5                  5  49.746577 2025-06-01 05:00:00\n",
      "6                  6  50.047556 2025-06-01 06:00:00\n",
      "7                  7  50.057262 2025-06-01 07:00:00\n",
      "8                  8  49.966943 2025-06-01 08:00:00\n",
      "9                  9  49.939899 2025-06-01 09:00:00\n",
      "10                10  49.902881 2025-06-01 10:00:00\n",
      "11                11  50.010480 2025-06-01 11:00:00\n",
      "12                12  50.107006 2025-06-01 12:00:00\n",
      "13                13  49.934197 2025-06-01 13:00:00\n",
      "14                14  49.921057 2025-06-01 14:00:00\n",
      "15                15  50.029908 2025-06-01 15:00:00\n",
      "16                16  49.806968 2025-06-01 16:00:00\n",
      "17                17  50.113756 2025-06-01 17:00:00\n",
      "18                18  50.181965 2025-06-01 18:00:00\n",
      "19                19  49.981848 2025-06-01 19:00:00\n",
      "20                20  50.025097 2025-06-01 20:00:00\n",
      "21                21  49.918479 2025-06-01 21:00:00\n",
      "22                22  49.804356 2025-06-01 22:00:00\n",
      "23                23  49.961976 2025-06-01 23:00:00\n"
     ]
    }
   ],
   "source": [
    "print(hourly_average)"
   ]
  },
  {
   "cell_type": "code",
   "execution_count": null,
   "id": "2a959969-1745-429e-be15-ac9efd42ca63",
   "metadata": {},
   "outputs": [],
   "source": []
  }
 ],
 "metadata": {
  "kernelspec": {
   "display_name": "Python 3 (ipykernel)",
   "language": "python",
   "name": "python3"
  },
  "language_info": {
   "codemirror_mode": {
    "name": "ipython",
    "version": 3
   },
   "file_extension": ".py",
   "mimetype": "text/x-python",
   "name": "python",
   "nbconvert_exporter": "python",
   "pygments_lexer": "ipython3",
   "version": "3.13.3"
  }
 },
 "nbformat": 4,
 "nbformat_minor": 5
}
